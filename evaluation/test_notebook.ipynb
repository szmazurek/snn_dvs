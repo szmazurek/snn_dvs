{
 "cells": [
  {
   "cell_type": "code",
   "execution_count": 1,
   "metadata": {},
   "outputs": [],
   "source": [
    "import torch\n",
    "from data_loaders import RGBDatasetTemporal, DVSDatasetProper\n",
    "from spikingjelly.activation_based import functional\n",
    "from models import Resnet18_DVS, Resnet18\n",
    "from TemporalRGBTemplate import perform_single_sample_time_dimension_forward_pass, perform_forward_pass_on_full_batch"
   ]
  },
  {
   "cell_type": "code",
   "execution_count": 2,
   "metadata": {},
   "outputs": [],
   "source": [
    "ds_path = \"../datasets/dataset_weather_rgb/\"\n",
    "dataset = RGBDatasetTemporal(ds_path, 4)\n",
    "dataloader_rgb = torch.utils.data.DataLoader(dataset, batch_size=6, shuffle=False, num_workers=0)\n",
    "sample_batch_rgb = next(iter(dataloader_rgb))"
   ]
  },
  {
   "cell_type": "code",
   "execution_count": 4,
   "metadata": {},
   "outputs": [],
   "source": [
    "ds_path_dvs = \"../datasets/dataset_weather_dvs/\"\n",
    "dataset_dvs = DVSDatasetProper(ds_path_dvs, 5)\n",
    "dataloder = torch.utils.data.DataLoader(dataset_dvs, batch_size=4, shuffle=True)\n",
    "sample = dataset_dvs[0][0]\n",
    "single_batch = next(iter(dataloder))\n",
    "model = Resnet18_DVS()"
   ]
  },
  {
   "cell_type": "code",
   "execution_count": 5,
   "metadata": {},
   "outputs": [
    {
     "data": {
      "text/plain": [
       "torch.Size([4, 5, 1])"
      ]
     },
     "execution_count": 5,
     "metadata": {},
     "output_type": "execute_result"
    }
   ],
   "source": [
    "functional.set_step_mode(model, \"m\")\n",
    "out = model(single_batch[0])\n",
    "functional.reset_net(model)\n",
    "out.shape"
   ]
  },
  {
   "cell_type": "code",
   "execution_count": 3,
   "metadata": {},
   "outputs": [
    {
     "data": {
      "text/plain": [
       "torch.Size([1, 4, 1])"
      ]
     },
     "execution_count": 3,
     "metadata": {},
     "output_type": "execute_result"
    }
   ],
   "source": [
    "model_rgb = Resnet18()\n",
    "out = perform_single_sample_time_dimension_forward_pass(model_rgb, sample_batch_rgb[0][0])\n",
    "out.shape"
   ]
  },
  {
   "cell_type": "code",
   "execution_count": 7,
   "metadata": {},
   "outputs": [
    {
     "data": {
      "text/plain": [
       "torch.Size([6, 4, 3, 150, 400])"
      ]
     },
     "execution_count": 7,
     "metadata": {},
     "output_type": "execute_result"
    }
   ],
   "source": [
    "sample_batch_rgb[0].shape"
   ]
  },
  {
   "cell_type": "code",
   "execution_count": 4,
   "metadata": {},
   "outputs": [],
   "source": [
    "out_batch = perform_forward_pass_on_full_batch(model_rgb, sample_batch_rgb[0])"
   ]
  }
 ],
 "metadata": {
  "kernelspec": {
   "display_name": "Python 3",
   "language": "python",
   "name": "python3"
  },
  "language_info": {
   "codemirror_mode": {
    "name": "ipython",
    "version": 3
   },
   "file_extension": ".py",
   "mimetype": "text/x-python",
   "name": "python",
   "nbconvert_exporter": "python",
   "pygments_lexer": "ipython3",
   "version": "3.10.13"
  }
 },
 "nbformat": 4,
 "nbformat_minor": 2
}
